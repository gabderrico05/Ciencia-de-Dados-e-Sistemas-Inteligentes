{
  "nbformat": 4,
  "nbformat_minor": 0,
  "metadata": {
    "colab": {
      "provenance": [],
      "authorship_tag": "ABX9TyPVXbZyulqJ+1qb4UTx2cyJ",
      "include_colab_link": true
    },
    "kernelspec": {
      "name": "python3",
      "display_name": "Python 3"
    },
    "language_info": {
      "name": "python"
    }
  },
  "cells": [
    {
      "cell_type": "markdown",
      "metadata": {
        "id": "view-in-github",
        "colab_type": "text"
      },
      "source": [
        "<a href=\"https://colab.research.google.com/github/gabderrico05/Ciencia-de-Dados-e-Sistemas-Inteligentes/blob/main/Combinando_dados.ipynb\" target=\"_parent\"><img src=\"https://colab.research.google.com/assets/colab-badge.svg\" alt=\"Open In Colab\"/></a>"
      ]
    },
    {
      "cell_type": "code",
      "execution_count": 3,
      "metadata": {
        "id": "1gSUVxfzv525",
        "colab": {
          "base_uri": "https://localhost:8080/"
        },
        "outputId": "f7cc772f-00bd-4618-e807-f085f567c0ab"
      },
      "outputs": [
        {
          "output_type": "stream",
          "name": "stdout",
          "text": [
            "  loja  dia  valor\n",
            "0    A  sex   7500\n",
            "1    A  sab   9500\n",
            "2    A  dom   8200\n",
            "3    B  sex   5100\n",
            "4    B  sab   8250\n",
            "5    B  dom   9900\n",
            "6    C  sab   7500\n",
            "7    C  dom  11800\n"
          ]
        }
      ],
      "source": [
        "import pandas as pd\n",
        "\n",
        "\n",
        "lojaA = pd.DataFrame({\"loja\": [\"A\",\"A\",\"A\"],\n",
        "                      \"dia\": [\"sex\", \"sab\",\"dom\"],\n",
        "                      \"valor\": [7500, 9500, 8200]\n",
        "                    })\n",
        "\n",
        "lojaB = pd.DataFrame({\"loja\": [\"B\",\"B\",\"B\"],\n",
        "                      \"dia\": [\"sex\", \"sab\",\"dom\"],\n",
        "                      \"valor\": [5100, 8250, 9900]\n",
        "                    })\n",
        "\n",
        "lojaC = pd.DataFrame({\"loja\": [\"C\",\"C\"],\n",
        "                      \"dia\": [ \"sab\",\"dom\"],\n",
        "                      \"valor\": [7500, 11800]\n",
        "                    })\n",
        "\n",
        "lojaABC = pd.concat([lojaA,lojaB,lojaC], ignore_index=True)\n",
        "\n",
        "print(lojaABC)"
      ]
    },
    {
      "cell_type": "code",
      "source": [
        "import pandas as pd\n",
        "\n",
        "d1 = pd.DataFrame({\"carro\": [\"Hyundai\", \"Renault\", \"Fiat\"]})\n",
        "d2 = pd.DataFrame({\"animal\": [\"Capivara\", \"Cachorro\"]})\n",
        "\n",
        "d3 = pd.concat([d1,d2], ignore_index=True, sort=False)\n",
        "print(d3)"
      ],
      "metadata": {
        "colab": {
          "base_uri": "https://localhost:8080/"
        },
        "id": "VuW2k7Br1g6i",
        "outputId": "f49854ed-2f77-4801-d45e-7b016ebb9056"
      },
      "execution_count": null,
      "outputs": [
        {
          "output_type": "stream",
          "name": "stdout",
          "text": [
            "     carro    animal\n",
            "0  Hyundai       NaN\n",
            "1  Renault       NaN\n",
            "2     Fiat       NaN\n",
            "3      NaN  Capivara\n",
            "4      NaN  Cachorro\n"
          ]
        }
      ]
    },
    {
      "cell_type": "code",
      "source": [
        "import pandas as pd\n",
        "\n",
        "df_sql = pd.DataFrame({\n",
        "    'email': [\n",
        "        'elza.=_peixoto@astconsult.com.br',\n",
        "        'carlos_pires@piscinasegura.com.br'\n",
        "    ]\n",
        "})\n",
        "\n",
        "df_python = pd.DataFrame({\n",
        "    'email': [\n",
        "        'elza.=_peixoto@astconsult.com.br',\n",
        "        'roberto_moreira@gruporeis.net',\n",
        "        'alice.nicole.barbosa@bb.com.br'\n",
        "    ]\n",
        "})\n",
        "\n",
        "# União (relação de emails distintos)\n",
        "\n",
        "alunos = pd.concat([df_sql, df_python], ignore_index=True)\n",
        "alunos = alunos.drop_duplicates()\n",
        "\n",
        "# Interseção (quem faz ambos os cursos)\n",
        "sql_e_python = df_sql.merge(df_python)\n",
        "\n",
        "# Diferença (quem faz só SQL e faz só python)\n",
        "\n",
        "so_sql = df_sql[df_sql.email.isin(df_python.email) == False]\n",
        "so_python = df_python[df_python.email.isin(df_sql.email) == False]\n",
        "\n",
        "print('Alunos distintos:\\n', alunos)\n",
        "print('Alunos que fazem SQL e Python:\\n', sql_e_python)\n",
        "print('Alunos que fazem apenas SQL:\\n', so_sql)\n",
        "print('Alunos que fazem apenas Python:\\n', so_python)"
      ],
      "metadata": {
        "colab": {
          "base_uri": "https://localhost:8080/"
        },
        "id": "mneVR2kr3jQs",
        "outputId": "64be3316-790c-495b-e8a4-f18011893ce2"
      },
      "execution_count": 2,
      "outputs": [
        {
          "output_type": "stream",
          "name": "stdout",
          "text": [
            "Alunos distintos:\n",
            "                                email\n",
            "0   elza.=_peixoto@astconsult.com.br\n",
            "1  carlos_pires@piscinasegura.com.br\n",
            "3      roberto_moreira@gruporeis.net\n",
            "4     alice.nicole.barbosa@bb.com.br\n",
            "Alunos que fazem SQL e Python:\n",
            "                               email\n",
            "0  elza.=_peixoto@astconsult.com.br\n",
            "Alunos que fazem apenas SQL:\n",
            "                                email\n",
            "1  carlos_pires@piscinasegura.com.br\n",
            "Alunos que fazem apenas Python:\n",
            "                             email\n",
            "1   roberto_moreira@gruporeis.net\n",
            "2  alice.nicole.barbosa@bb.com.br\n"
          ]
        }
      ]
    },
    {
      "cell_type": "code",
      "source": [
        "import pandas as pd\n",
        "from google.colab import drive\n",
        "\n",
        "drive.mount('/content/drive')"
      ],
      "metadata": {
        "colab": {
          "base_uri": "https://localhost:8080/"
        },
        "id": "dEasPnIA3mGQ",
        "outputId": "daebb2c7-345e-4ce4-90dc-54ad1a7c8530"
      },
      "execution_count": 4,
      "outputs": [
        {
          "output_type": "stream",
          "name": "stdout",
          "text": [
            "Mounted at /content/drive\n"
          ]
        }
      ]
    },
    {
      "cell_type": "code",
      "source": [
        "# importando os dados\n",
        "\n",
        "flags = pd.read_csv('/content/drive/MyDrive/CDSI/Fonte_de_dados/flags.csv')\n",
        "countries = pd.read_csv('/content/drive/MyDrive/CDSI/Fonte_de_dados/countries.csv')\n",
        "\n",
        "num_linhas_flags = flags.shape[0]\n",
        "num_linhas_countries = countries.shape[0]\n",
        "\n",
        "# Junção interna: paises comuns a ambas as bases\n",
        "ambas = pd.merge(flags, countries, how='inner', left_on='name', right_on='country')\n",
        "num_linhas_ambas = ambas.shape[0]\n",
        "\n",
        "# Left Join: paises apenas em flags\n",
        "so_flags = pd.merge(flags, countries, how='left', left_on='name', right_on='country')\n",
        "so_flags = so_flags[pd.isnull(so_flags['country'])==True]\n",
        "num_linhas_so_flags = so_flags.shape[0]\n",
        "\n",
        "# Right Join: paises apenas em countries\n",
        "so_countries = pd.merge(flags, countries, how='right', left_on='name', right_on='country')\n",
        "so_countries = so_countries[pd.isnull(so_countries['name'])==True]\n",
        "num_linhas_so_countries = so_countries.shape[0]\n",
        "\n",
        "print('Numero de paises em flags: ', num_linhas_flags)\n",
        "print('Numero de paises em countries: ', num_linhas_countries)\n",
        "print('Numero de paises em ambas as bases: ', num_linhas_ambas)\n",
        "print('Numero de paises apenas em flags', num_linhas_so_flags)\n",
        "print('Numero de paises apenas em countries', num_linhas_so_countries)"
      ],
      "metadata": {
        "colab": {
          "base_uri": "https://localhost:8080/"
        },
        "id": "3ugj3dn137bo",
        "outputId": "8a986a08-6053-45d8-ac6b-7368e8411345"
      },
      "execution_count": 5,
      "outputs": [
        {
          "output_type": "stream",
          "name": "stdout",
          "text": [
            "Numero de paises em flags:  194\n",
            "Numero de paises em countries:  227\n",
            "Numero de paises em ambas as bases:  177\n",
            "Numero de paises apenas em flags 17\n",
            "Numero de paises apenas em countries 50\n"
          ]
        }
      ]
    }
  ]
}