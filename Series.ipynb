{
  "nbformat": 4,
  "nbformat_minor": 0,
  "metadata": {
    "colab": {
      "provenance": [],
      "authorship_tag": "ABX9TyMmOOaPq6G0/Wm94Vfl+UiY",
      "include_colab_link": true
    },
    "kernelspec": {
      "name": "python3",
      "display_name": "Python 3"
    },
    "language_info": {
      "name": "python"
    }
  },
  "cells": [
    {
      "cell_type": "markdown",
      "metadata": {
        "id": "view-in-github",
        "colab_type": "text"
      },
      "source": [
        "<a href=\"https://colab.research.google.com/github/gabderrico05/Ciencia-de-Dados-e-Sistemas-Inteligentes/blob/main/Series.ipynb\" target=\"_parent\"><img src=\"https://colab.research.google.com/assets/colab-badge.svg\" alt=\"Open In Colab\"/></a>"
      ]
    },
    {
      "cell_type": "code",
      "execution_count": 2,
      "metadata": {
        "id": "C8weS_fBratN"
      },
      "outputs": [],
      "source": [
        "import pandas as pd"
      ]
    },
    {
      "cell_type": "code",
      "source": [
        "# Cria a Serie notas\n",
        "\n",
        "grades = pd.Series([7.6, 5.0, 8.5, 9.5, 6.4])\n",
        "\n",
        "# Cria a Series alunos\n",
        "\n",
        "lst_registration = ['M02', 'M05', 'M13', 'M14', 'M19']\n",
        "lst_names = ['Bob', 'Dayse', 'Bill', 'Cris', 'Jimi']\n",
        "students = pd.Series(lst_names, index=lst_registration)\n",
        "\n",
        "print(grades)\n",
        "print(\"---------------------\")\n",
        "print(students)\n"
      ],
      "metadata": {
        "colab": {
          "base_uri": "https://localhost:8080/"
        },
        "id": "sBtHmhd7soje",
        "outputId": "51511b9f-80cd-4049-c848-fc3c00a9ac10"
      },
      "execution_count": 3,
      "outputs": [
        {
          "output_type": "stream",
          "name": "stdout",
          "text": [
            "0    7.6\n",
            "1    5.0\n",
            "2    8.5\n",
            "3    9.5\n",
            "4    6.4\n",
            "dtype: float64\n",
            "---------------------\n",
            "M02      Bob\n",
            "M05    Dayse\n",
            "M13     Bill\n",
            "M14     Cris\n",
            "M19     Jimi\n",
            "dtype: object\n"
          ]
        }
      ]
    },
    {
      "cell_type": "code",
      "source": [
        "# oura forma de criação de Series - a partir de um dicionário\n",
        "\n",
        "dic_students = {'M02': 'Bob', 'M05': 'Dayse', 'M13': 'Bill', 'M14': 'Cris', 'M19': 'Jimi'}\n",
        "students2 = pd.Series(dic_students)\n",
        "print(students2)\n"
      ],
      "metadata": {
        "colab": {
          "base_uri": "https://localhost:8080/"
        },
        "id": "yrBzG54LtJKj",
        "outputId": "c895d427-40aa-4b72-e986-e6efbd593f9a"
      },
      "execution_count": 4,
      "outputs": [
        {
          "output_type": "stream",
          "name": "stdout",
          "text": [
            "M02      Bob\n",
            "M05    Dayse\n",
            "M13     Bill\n",
            "M14     Cris\n",
            "M19     Jimi\n",
            "dtype: object\n"
          ]
        }
      ]
    },
    {
      "cell_type": "code",
      "source": [
        "# Propriedades basicas das Series\n",
        "students = pd.Series({'M02':'Bob', 'M05':'Dayse', 'M13':'Bill', 'M14':'Cris', 'M19':'Jimi'})\n",
        "# atribui nomes p/ os vetores de dados e rótulos (indice)\n",
        "students.name = \"alunos\"\n",
        "students.index.name = \"matriculas\"\n",
        "print(students)\n",
        "size = students.size\n",
        "data = students.values\n",
        "labels = students.index\n",
        "students_type = type(students)\n",
        "students_dtype = students.dtype\n",
        "students_idx_dtype = students.index.dtype\n",
        "print('número de elementos: ', size)\n",
        "print('vetor de dados: ', data)\n",
        "print('vetor de rótulos: ', labels)\n",
        "print('tipo(type): ', students_type)\n",
        "print('dtype da Series: ', students_dtype)\n",
        "print('dtype do vetor de dados: ', students_idx_dtype)"
      ],
      "metadata": {
        "colab": {
          "base_uri": "https://localhost:8080/"
        },
        "id": "OesKWgFYtfc1",
        "outputId": "ab3b5ae9-0cdb-4564-c737-d4a4df0f3d5c"
      },
      "execution_count": 5,
      "outputs": [
        {
          "output_type": "stream",
          "name": "stdout",
          "text": [
            "matriculas\n",
            "M02      Bob\n",
            "M05    Dayse\n",
            "M13     Bill\n",
            "M14     Cris\n",
            "M19     Jimi\n",
            "Name: alunos, dtype: object\n",
            "número de elementos:  5\n",
            "vetor de dados:  ['Bob' 'Dayse' 'Bill' 'Cris' 'Jimi']\n",
            "vetor de rótulos:  Index(['M02', 'M05', 'M13', 'M14', 'M19'], dtype='object', name='matriculas')\n",
            "tipo(type):  <class 'pandas.core.series.Series'>\n",
            "dtype da Series:  object\n",
            "dtype do vetor de dados:  object\n"
          ]
        }
      ]
    },
    {
      "cell_type": "code",
      "source": [
        "# indexação booleano\n",
        "# obtêm os indices dos alunos aprovados\n",
        "idx_approved = grades[grades >= 7].index\n",
        "# imprimir os alunos aprovados\n",
        "print('Relação de alunos aprovados')\n",
        "print('----------------------------')\n",
        "#print(students[idx_approved])\n",
        "print(students.iloc[idx_approved])\n"
      ],
      "metadata": {
        "colab": {
          "base_uri": "https://localhost:8080/"
        },
        "id": "kl4nmLj8tmp-",
        "outputId": "f8f8c64c-5fc4-4b49-c422-4f3439247eb4"
      },
      "execution_count": 6,
      "outputs": [
        {
          "output_type": "stream",
          "name": "stdout",
          "text": [
            "Relação de alunos aprovados\n",
            "----------------------------\n",
            "matriculas\n",
            "M02     Bob\n",
            "M13    Bill\n",
            "M14    Cris\n",
            "Name: alunos, dtype: object\n"
          ]
        }
      ]
    },
    {
      "cell_type": "code",
      "source": [
        "# Buscas em Series\n",
        "has_M06 = 'M06' in students\n",
        "has_M99 = 'M99' in students\n",
        "print('Existe o rótulo \"M06\"? ->', has_M06)\n",
        "print('Existe o rótulo \"M99\"? ->', has_M99)\n",
        "# testa se valor faz parte da Series\n",
        "\n",
        "has_bob = students.isin(['Bob'])\n",
        "print(\"Existe o valor 'Bob'? -> \", has_bob)\n",
        "has_teste = students.isin(['Cris'])\n",
        "print(\"Existe o valor? -> \", has_teste)"
      ],
      "metadata": {
        "colab": {
          "base_uri": "https://localhost:8080/"
        },
        "id": "Vy7ZauiOtp7_",
        "outputId": "20b11263-7383-4180-9333-d4298e78c08c"
      },
      "execution_count": 7,
      "outputs": [
        {
          "output_type": "stream",
          "name": "stdout",
          "text": [
            "Existe o rótulo \"M06\"? -> False\n",
            "Existe o rótulo \"M99\"? -> False\n",
            "Existe o valor 'Bob'? ->  matriculas\n",
            "M02     True\n",
            "M05    False\n",
            "M13    False\n",
            "M14    False\n",
            "M19    False\n",
            "Name: alunos, dtype: bool\n",
            "Existe o valor? ->  matriculas\n",
            "M02    False\n",
            "M05    False\n",
            "M13    False\n",
            "M14     True\n",
            "M19    False\n",
            "Name: alunos, dtype: bool\n"
          ]
        }
      ]
    },
    {
      "cell_type": "code",
      "source": [
        "# Inserindo, Alterando e Removendo elementos de Series\n",
        "print('Series original')\n",
        "print(students)\n",
        "# insere o aluno de matricula M55. Rakesh\n",
        "students['M55'] = 'Rakesh'\n",
        "print(students)\n",
        "# Alterar os nomes Bill, Cris e Jimi para Billy, Cristy e Jimy\n",
        "students['M13'] = 'Billy'\n",
        "students[['M14', 'M19']] = ['Cristy', 'Jimy']\n",
        "print(students)\n",
        "# remove o aluno de matricula M01 (Bob)\n",
        "students = students.drop('M02')\n",
        "print(students)\n"
      ],
      "metadata": {
        "colab": {
          "base_uri": "https://localhost:8080/"
        },
        "id": "GokJocWStwoI",
        "outputId": "1f948802-b456-4cf7-94ca-506aa9096280"
      },
      "execution_count": 8,
      "outputs": [
        {
          "output_type": "stream",
          "name": "stdout",
          "text": [
            "Series original\n",
            "matriculas\n",
            "M02      Bob\n",
            "M05    Dayse\n",
            "M13     Bill\n",
            "M14     Cris\n",
            "M19     Jimi\n",
            "Name: alunos, dtype: object\n",
            "matriculas\n",
            "M02       Bob\n",
            "M05     Dayse\n",
            "M13      Bill\n",
            "M14      Cris\n",
            "M19      Jimi\n",
            "M55    Rakesh\n",
            "Name: alunos, dtype: object\n",
            "matriculas\n",
            "M02       Bob\n",
            "M05     Dayse\n",
            "M13     Billy\n",
            "M14    Cristy\n",
            "M19      Jimy\n",
            "M55    Rakesh\n",
            "Name: alunos, dtype: object\n",
            "matriculas\n",
            "M05     Dayse\n",
            "M13     Billy\n",
            "M14    Cristy\n",
            "M19      Jimy\n",
            "M55    Rakesh\n",
            "Name: alunos, dtype: object\n"
          ]
        }
      ]
    },
    {
      "cell_type": "code",
      "source": [
        "# Mudando o indice de series\n",
        "\n",
        "students = pd.Series({'M02':'Bob', 'M05':'Dayse', 'M13':'Bill', 'M14':'Cris', 'M19':'Jimi'})\n",
        "print(students)\n",
        "\n",
        "students.index = ['M91', 'M92', 'M93', 'M94', 'M95']\n",
        "print(students)\n"
      ],
      "metadata": {
        "colab": {
          "base_uri": "https://localhost:8080/"
        },
        "id": "0T1VAD6YvPEM",
        "outputId": "118ac594-a11e-40b3-da73-03661471cc77"
      },
      "execution_count": 11,
      "outputs": [
        {
          "output_type": "stream",
          "name": "stdout",
          "text": [
            "M02      Bob\n",
            "M05    Dayse\n",
            "M13     Bill\n",
            "M14     Cris\n",
            "M19     Jimi\n",
            "dtype: object\n",
            "M91      Bob\n",
            "M92    Dayse\n",
            "M93     Bill\n",
            "M94     Cris\n",
            "M95     Jimi\n",
            "dtype: object\n"
          ]
        }
      ]
    },
    {
      "cell_type": "code",
      "source": [
        "# Iteração\n",
        "for student in students: print(student)\n",
        "\n",
        "for position in students.index: print(position)\n",
        "\n",
        "\n"
      ],
      "metadata": {
        "colab": {
          "base_uri": "https://localhost:8080/"
        },
        "id": "tgCbbCNAvmPY",
        "outputId": "628491ed-e02a-42e9-e5f4-0ba549c78037"
      },
      "execution_count": 13,
      "outputs": [
        {
          "output_type": "stream",
          "name": "stdout",
          "text": [
            "Bob\n",
            "Dayse\n",
            "Bill\n",
            "Cris\n",
            "Jimi\n",
            "M91\n",
            "M92\n",
            "M93\n",
            "M94\n",
            "M95\n"
          ]
        }
      ]
    },
    {
      "cell_type": "code",
      "source": [
        "#Operações Aritimeticas com computação vetorizada\n",
        "import pandas as pd\n",
        "import numpy as np\n",
        "\n",
        "# cria as Series s1 e s2\n",
        "s1=pd.Series([2,4,6])\n",
        "s2=pd.Series([1,3,5])\n",
        "\n",
        "print('s1: ')\n",
        "print(s1)\n",
        "print('s2: ')\n",
        "print(s2)\n",
        "\n",
        "print('s1 + s2: ')\n",
        "print(s1+s2)\n",
        "\n",
        "print('s1 * s2: ')\n",
        "print(s1*s2)\n",
        "\n",
        "print('s1 - s2: ')\n",
        "print(s1-s2)\n",
        "\n",
        "print('s1 / s2: ')\n",
        "print(s1/s2)\n",
        "\n",
        "print('raiz quadrada dos elementos de s1')\n",
        "print(np.sqrt(s1))\n"
      ],
      "metadata": {
        "colab": {
          "base_uri": "https://localhost:8080/"
        },
        "id": "q3Vqe6_3t1ng",
        "outputId": "31d8fc1a-d8b0-495f-def4-5d57568245d4"
      },
      "execution_count": 9,
      "outputs": [
        {
          "output_type": "stream",
          "name": "stdout",
          "text": [
            "s1: \n",
            "0    2\n",
            "1    4\n",
            "2    6\n",
            "dtype: int64\n",
            "s2: \n",
            "0    1\n",
            "1    3\n",
            "2    5\n",
            "dtype: int64\n",
            "s1 + s2: \n",
            "0     3\n",
            "1     7\n",
            "2    11\n",
            "dtype: int64\n",
            "s1 * s2: \n",
            "0     2\n",
            "1    12\n",
            "2    30\n",
            "dtype: int64\n",
            "s1 - s2: \n",
            "0    1\n",
            "1    1\n",
            "2    1\n",
            "dtype: int64\n",
            "s1 / s2: \n",
            "0    2.000000\n",
            "1    1.333333\n",
            "2    1.200000\n",
            "dtype: float64\n",
            "raiz quadrada dos elementos de s1\n",
            "0    1.414214\n",
            "1    2.000000\n",
            "2    2.449490\n",
            "dtype: float64\n"
          ]
        }
      ]
    },
    {
      "cell_type": "code",
      "source": [
        "# valor NaN\n",
        "\n",
        "green = pd.Series({'BR':1, 'FR':0, 'IT':1, 'UK':0})\n",
        "blue = pd.Series({'AR':1,'BR':1, 'FR':1, 'IT':0, 'UK':1})\n",
        "total = green + blue\n",
        "print(\"Soma\")\n",
        "print(total)\n",
        "print(\"---------------------\")\n",
        "print('isnull(total)')\n",
        "print(pd.isnull(total))"
      ],
      "metadata": {
        "colab": {
          "base_uri": "https://localhost:8080/"
        },
        "id": "O3OtdIQM2VSJ",
        "outputId": "5bb2be43-45bf-42be-f28d-c008c1811d62"
      },
      "execution_count": 14,
      "outputs": [
        {
          "output_type": "stream",
          "name": "stdout",
          "text": [
            "Soma\n",
            "AR    NaN\n",
            "BR    2.0\n",
            "FR    1.0\n",
            "IT    1.0\n",
            "UK    1.0\n",
            "dtype: float64\n",
            "---------------------\n",
            "isnull(total)\n",
            "AR     True\n",
            "BR    False\n",
            "FR    False\n",
            "IT    False\n",
            "UK    False\n",
            "dtype: bool\n"
          ]
        }
      ]
    },
    {
      "cell_type": "code",
      "source": [
        "# Indices datetime\n",
        "\n",
        "#(1) - cria uma serie temporal\n",
        "days = ['10/02/2019', '11/02/2019', '12/02/2019', '13/02/2019', '14/02/2019', '15/02/2019']\n",
        "temp_max = [31, 35, 34, 28, 27, 27]\n",
        "serie_temporal = pd.Series(temp_max, index=days)\n",
        "\n",
        "#(2) - converte o tipo do indice par datetime e imprime a serie\n",
        "serie_temporal.index = pd.to_datetime(serie_temporal.index, format='%d/%m/%Y')\n",
        "print(serie_temporal)\n"
      ],
      "metadata": {
        "colab": {
          "base_uri": "https://localhost:8080/"
        },
        "id": "z9xvi-Ge4aFn",
        "outputId": "9357bad1-25c7-40cd-a282-9b92ef28e6dc"
      },
      "execution_count": 15,
      "outputs": [
        {
          "output_type": "stream",
          "name": "stdout",
          "text": [
            "2019-02-10    31\n",
            "2019-02-11    35\n",
            "2019-02-12    34\n",
            "2019-02-13    28\n",
            "2019-02-14    27\n",
            "2019-02-15    27\n",
            "dtype: int64\n"
          ]
        }
      ]
    },
    {
      "cell_type": "code",
      "source": [
        "# Indexação hierarquica\n",
        "money = ['Peso', 'Real', 'Dolar', 'Euro', 'Euro', 'Libra']\n",
        "countries = [['América', 'América', 'América','Europa', 'Europa','Europa'],\n",
        "              ['AR', 'BR', 'EUA', 'FR', 'IT', 'UK']]\n",
        "list_countries = pd.Series(money, index=countries)\n",
        "print(list_countries) # imprime toda a lista\n",
        "\n",
        "print('--------------------------')\n",
        "print(list_countries['América']) # (AR: Peso, BR: Real, EUA: Dolar)\n",
        "print('--------------------------')\n",
        "print(list_countries[:,'IT']) # (Europa: Euro)\n",
        "print('--------------------------')\n",
        "print(list_countries['Europa', 'IT']) # (Euro)\n"
      ],
      "metadata": {
        "colab": {
          "base_uri": "https://localhost:8080/"
        },
        "id": "Jgo9MUo96_aL",
        "outputId": "2eeeb522-4ed1-4d18-bdd0-df2d6789bc5a"
      },
      "execution_count": 18,
      "outputs": [
        {
          "output_type": "stream",
          "name": "stdout",
          "text": [
            "América  AR      Peso\n",
            "         BR      Real\n",
            "         EUA    Dolar\n",
            "Europa   FR      Euro\n",
            "         IT      Euro\n",
            "         UK     Libra\n",
            "dtype: object\n",
            "--------------------------\n",
            "AR      Peso\n",
            "BR      Real\n",
            "EUA    Dolar\n",
            "dtype: object\n",
            "--------------------------\n",
            "Europa    Euro\n",
            "dtype: object\n",
            "--------------------------\n",
            "Euro\n"
          ]
        }
      ]
    }
  ]
}